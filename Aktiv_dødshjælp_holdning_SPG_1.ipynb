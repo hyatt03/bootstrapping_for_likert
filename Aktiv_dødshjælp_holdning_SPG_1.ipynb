{
  "cells": [
    {
      "cell_type": "code",
      "execution_count": null,
      "metadata": {
        "collapsed": true,
        "id": "6LrsMyKR2S8F"
      },
      "outputs": [],
      "source": [
        "import numpy as np\n",
        "\n",
        "# Load data\n",
        "ad_spg1_grp1 = np.array([])\n",
        "ad_spg1_grp2 = np.array([])\n",
        "ad_spg1_grp3 = np.array([])\n",
        "ad_spg1_grp4 = np.array([])\n",
        "\n",
        "# Fjern nuller\n",
        "ad_spg1_grp1 = ad_spg1_grp1[ad_spg1_grp1 != 0]\n",
        "ad_spg1_grp2 = ad_spg1_grp2[ad_spg1_grp2 != 0]\n",
        "ad_spg1_grp3 = ad_spg1_grp3[ad_spg1_grp3 != 0]\n",
        "ad_spg1_grp4 = ad_spg1_grp4[ad_spg1_grp4 != 0]"
      ]
    },
    {
      "cell_type": "code",
      "execution_count": null,
      "outputs": [],
      "source": [
        "import matplotlib.pyplot as plt\n",
        "\n",
        "# Plot rå data\n",
        "# plt.hist(ad_spg1_grp1, bins=[1, 2, 3, 4, 5, 6], histtype='step', align='left')\n",
        "# plt.hist(ad_spg1_grp2, bins=[1, 2, 3, 4, 5, 6], histtype='step', align='left')\n",
        "# plt.hist(ad_spg1_grp3, bins=[1, 2, 3, 4, 5, 6], histtype='step', align='left')\n",
        "# counts, bins, plot_inst = plt.hist(ad_spg1_grp4, bins=[1, 2, 3, 4, 5, 6], histtype='step', align='left')"
      ],
      "metadata": {
        "pycharm": {
          "name": "#%%\n"
        },
        "id": "2TEf7cbt2S8H"
      }
    },
    {
      "cell_type": "code",
      "execution_count": null,
      "outputs": [],
      "source": [
        "# Hvor mange gange skal vi simulere?\n",
        "number_of_random_datasets = 500\n",
        "\n",
        "# Hvor mange deltagere findes i hver simulering?\n",
        "number_of_random_picks = 20\n",
        "\n",
        "# Hvilke bins skal vi bruge (fra 1 til 2, fra 2 til 3, ...)\n",
        "hist_bins = [1, 2, 3, 4, 5, 6]\n",
        "\n",
        "# Lav nogle tomme matricer til at holde vores simulerede resultater\n",
        "ds1_mat = np.zeros((len(hist_bins) - 1, number_of_random_datasets))\n",
        "ds2_mat = np.zeros((len(hist_bins) - 1, number_of_random_datasets))\n",
        "ds3_mat = np.zeros((len(hist_bins) - 1, number_of_random_datasets))\n",
        "ds4_mat = np.zeros((len(hist_bins) - 1, number_of_random_datasets))\n",
        "\n",
        "# Lav et loop over simuleringen\n",
        "for dataset_number in range(number_of_random_datasets):\n",
        "    # Vælg 20 tilfældige respondenter ud af det indlæste data\n",
        "    ds1 = np.random.choice(ad_spg1_grp1, number_of_random_picks)\n",
        "    ds2 = np.random.choice(ad_spg1_grp2, number_of_random_picks)\n",
        "    ds3 = np.random.choice(ad_spg1_grp3, number_of_random_picks)\n",
        "    ds4 = np.random.choice(ad_spg1_grp4, number_of_random_picks)\n",
        "\n",
        "    # Beregn hvor mange der har valgt hvilke muligheder (1, 2, 3, 4, 5) og tilføj det til matricerne\n",
        "    ds1_mat[:, dataset_number] = np.histogram(ds1, hist_bins)[0]\n",
        "    ds2_mat[:, dataset_number] = np.histogram(ds2, hist_bins)[0]\n",
        "    ds3_mat[:, dataset_number] = np.histogram(ds3, hist_bins)[0]\n",
        "    ds4_mat[:, dataset_number] = np.histogram(ds4, hist_bins)[0]"
      ],
      "metadata": {
        "pycharm": {
          "name": "#%%\n"
        },
        "id": "msvvVd4X2S8I"
      }
    },
    {
      "cell_type": "code",
      "execution_count": null,
      "outputs": [
        {
          "output_type": "stream",
          "name": "stdout",
          "text": [
            "ds1\n",
            "0.918 0.902926353585939\n",
            "0.46 0.6814690014960328\n",
            "1.69 1.2906974858579372\n",
            "5.98 2.0946598769251294\n",
            "10.952 2.2489321910631275\n",
            "ds2\n",
            "2.324 1.4321396579942895\n",
            "0.41 0.6526101439603893\n",
            "1.962 1.400198557348207\n",
            "7.97 2.1957003438538694\n",
            "7.334 2.197827108759922\n",
            "ds3\n",
            "1.484 1.114335676535576\n",
            "1.552 1.164171808626201\n",
            "1.86 1.2916655913974018\n",
            "10.638 2.2774889681401316\n",
            "4.466 1.8975889965954167\n",
            "ds4\n",
            "1.71 1.2672410978184065\n",
            "0.698 0.8238907694591558\n",
            "2.108 1.3417660004635683\n",
            "8.232 2.3677364718228255\n",
            "7.252 2.2308061323207804\n"
          ]
        }
      ],
      "source": [
        "print('ds1')\n",
        "# Lav tomme vektorer til at holde resultater for middelværdi og standardafvigelse\n",
        "ds1_means = np.zeros((5, 1))\n",
        "ds1_devs = np.zeros((5, 1))\n",
        "\n",
        "# For hver bin i datasættet (dvs svarmulighed 1, 2, 3, 4, 5)\n",
        "for bin in range(5):\n",
        "    # Beregn middelværdien, af respondenter der valgte den mulighed, for de 500 simuleringer\n",
        "    ds1_means[bin, 0] = np.mean(ds1_mat[bin, :])\n",
        "\n",
        "    # Beregn den tilsvarende standardafvigelse\n",
        "    ds1_devs[bin, 0] = np.std(ds1_mat[bin, :])\n",
        "\n",
        "    # Skriv resultaterne ud\n",
        "    print(ds1_means[bin, 0], ds1_devs[bin, 0])\n",
        "\n",
        "\n",
        "\n",
        "# Gør det samme for de 3 andre grupper\n",
        "print('ds2')\n",
        "ds2_means = np.zeros((5, 1))\n",
        "ds2_devs = np.zeros((5, 1))\n",
        "for bin in range(5):\n",
        "    ds2_means[bin, 0] = np.mean(ds2_mat[bin, :])\n",
        "    ds2_devs[bin, 0] = np.std(ds2_mat[bin, :])\n",
        "    print(ds2_means[bin, 0], ds2_devs[bin, 0])\n",
        "\n",
        "print('ds3')\n",
        "ds3_means = np.zeros((5, 1))\n",
        "ds3_devs = np.zeros((5, 1))\n",
        "for bin in range(5):\n",
        "    ds3_means[bin, 0] = np.mean(ds3_mat[bin, :])\n",
        "    ds3_devs[bin, 0] = np.std(ds3_mat[bin, :])\n",
        "    print(ds3_means[bin, 0], ds3_devs[bin, 0])\n",
        "\n",
        "print('ds4')\n",
        "ds4_means = np.zeros((5, 1))\n",
        "ds4_devs = np.zeros((5, 1))\n",
        "for bin in range(5):\n",
        "    ds4_means[bin, 0] = np.mean(ds4_mat[bin, :])\n",
        "    ds4_devs[bin, 0] = np.std(ds4_mat[bin, :])\n",
        "    print(ds4_means[bin, 0], ds4_devs[bin, 0])"
      ],
      "metadata": {
        "pycharm": {
          "name": "#%%\n"
        },
        "colab": {
          "base_uri": "https://localhost:8080/"
        },
        "id": "iIO4WjA02S8J",
        "outputId": "ca3c4b2c-e01d-4af5-b3bb-6213a806f0ad"
      }
    },
    {
      "cell_type": "code",
      "execution_count": null,
      "outputs": [
        {
          "output_type": "stream",
          "name": "stdout",
          "text": [
            "mean choice ds1 [4.2794]\n",
            "mean choice ds2 [3.879]\n",
            "mean choice ds3 [3.7525]\n",
            "mean choice ds4 [3.9309]\n"
          ]
        }
      ],
      "source": [
        "values = np.array(range(5)) + 1\n",
        "values.reshape((1, 5))\n",
        "\n",
        "# Beregn det gennemsnittelige valg blandt de 5 muligheder, baseret på vores simuleringer\n",
        "print('mean choice ds1', np.dot(values, ds1_means) / np.sum(ds1_means))\n",
        "print('mean choice ds2', np.dot(values, ds2_means) / np.sum(ds2_means))\n",
        "print('mean choice ds3', np.dot(values, ds3_means) / np.sum(ds3_means))\n",
        "print('mean choice ds4', np.dot(values, ds4_means) / np.sum(ds4_means))"
      ],
      "metadata": {
        "pycharm": {
          "name": "#%%\n"
        },
        "colab": {
          "base_uri": "https://localhost:8080/"
        },
        "id": "X8qKQYTT2S8K",
        "outputId": "77376f3a-33a5-4164-f525-274d40822fc0"
      }
    },
    {
      "cell_type": "code",
      "execution_count": null,
      "outputs": [
        {
          "output_type": "stream",
          "name": "stdout",
          "text": [
            "4.265060240963855\n",
            "3.8846153846153846\n",
            "3.759259259259259\n",
            "3.9310344827586206\n"
          ]
        }
      ],
      "source": [
        "# Beregn det gennemsnittelige valg i det rigtige datasæt, dette bør være tæt på\n",
        "print(np.mean(ad_spg1_grp1))\n",
        "print(np.mean(ad_spg1_grp2))\n",
        "print(np.mean(ad_spg1_grp3))\n",
        "print(np.mean(ad_spg1_grp4))"
      ],
      "metadata": {
        "pycharm": {
          "name": "#%%\n"
        },
        "colab": {
          "base_uri": "https://localhost:8080/"
        },
        "id": "9TiK_Rha2S8M",
        "outputId": "17dd3c20-05a5-4841-fc1a-bc58169b1c00"
      }
    },
    {
      "cell_type": "code",
      "execution_count": null,
      "outputs": [],
      "source": [
        "# Funktion til at beregne usikkerhed\n",
        "# Udledt vha. ophobningsloven (error propagation)\n",
        "def uncertain(s_arr, x_arr):\n",
        "    andet_led = (x_arr[0] + 2*x_arr[1] + 3*x_arr[2] + 4*x_arr[3] + 5*x_arr[4]) / (np.sum(x_arr)*np.sum(x_arr))\n",
        "\n",
        "    return s_arr[0]*s_arr[0] * ((1/np.sum(x_arr)) -  andet_led ) * ((1/np.sum(x_arr)) -  andet_led ) + \\\n",
        "    s_arr[1]*s_arr[1] * ((2/np.sum(x_arr)) -  andet_led ) * ((2/np.sum(x_arr)) -  andet_led ) + \\\n",
        "    s_arr[2]*s_arr[2] * ((3/np.sum(x_arr)) -  andet_led ) * ((3/np.sum(x_arr)) -  andet_led ) + \\\n",
        "    s_arr[3]*s_arr[3] * ((4/np.sum(x_arr)) -  andet_led ) * ((4/np.sum(x_arr)) -  andet_led ) + \\\n",
        "    s_arr[4]*s_arr[4] * ((5/np.sum(x_arr)) -  andet_led ) * ((5/np.sum(x_arr)) -  andet_led )"
      ],
      "metadata": {
        "pycharm": {
          "name": "#%%\n"
        },
        "id": "Xj2-8Z822S8N"
      }
    },
    {
      "cell_type": "code",
      "execution_count": null,
      "outputs": [
        {
          "output_type": "stream",
          "name": "stdout",
          "text": [
            "mean choice ds1 [4.2794] [0.04219093]\n",
            "mean choice ds2 [3.879] [0.06539857]\n",
            "mean choice ds3 [3.7525] [0.05109136]\n",
            "mean choice ds4 [3.9309] [0.05900168]\n"
          ]
        }
      ],
      "source": [
        "# Beregn middelvalg og usikkerhed på denne\n",
        "print('mean choice ds1', np.dot(values, ds1_means) / np.sum(ds1_means), uncertain(ds1_devs, ds1_means))\n",
        "print('mean choice ds2', np.dot(values, ds2_means) / np.sum(ds2_means), uncertain(ds2_devs, ds2_means))\n",
        "print('mean choice ds3', np.dot(values, ds3_means) / np.sum(ds3_means), uncertain(ds3_devs, ds3_means))\n",
        "print('mean choice ds4', np.dot(values, ds4_means) / np.sum(ds4_means), uncertain(ds4_devs, ds4_means))\n"
      ],
      "metadata": {
        "pycharm": {
          "name": "#%%\n"
        },
        "colab": {
          "base_uri": "https://localhost:8080/"
        },
        "id": "yl959yCt2S8O",
        "outputId": "f4e2cafc-33f3-4161-b061-46d1c5bbe876"
      }
    },
    {
      "cell_type": "code",
      "execution_count": null,
      "outputs": [
        {
          "output_type": "execute_result",
          "data": {
            "text/plain": [
              "(array([ 3., 11., 21., 27., 64., 84., 89., 76., 62., 36., 20.,  4.,  3.]),\n",
              " array([ 4.        ,  5.07692308,  6.15384615,  7.23076923,  8.30769231,\n",
              "         9.38461538, 10.46153846, 11.53846154, 12.61538462, 13.69230769,\n",
              "        14.76923077, 15.84615385, 16.92307692, 18.        ]),\n",
              " <a list of 13 Patch objects>)"
            ]
          },
          "metadata": {},
          "execution_count": 22
        },
        {
          "output_type": "display_data",
          "data": {
            "text/plain": [
              "<Figure size 432x288 with 1 Axes>"
            ],
            "image/png": "[encoded data removed]"
          },
          "metadata": {
            "needs_background": "light"
          }
        }
      ],
      "source": [
        "# Plot fordelinger af de simulerede data, denne bør nu være gaussisk\n",
        "plt.hist(ds1_mat[0, :], bins=5)\n",
        "plt.hist(ds1_mat[1, :], bins=5)\n",
        "plt.hist(ds1_mat[2, :], bins=7)\n",
        "plt.hist(ds1_mat[3, :], bins=11)\n",
        "plt.hist(ds1_mat[4, :], bins=13)"
      ],
      "metadata": {
        "pycharm": {
          "name": "#%%\n"
        },
        "colab": {
          "base_uri": "https://localhost:8080/",
          "height": 355
        },
        "id": "-dojOetC2S8P",
        "outputId": "cf1b8aa3-8685-4694-9eaa-6748227c2c3b"
      }
    },
    {
      "cell_type": "code",
      "execution_count": null,
      "outputs": [
        {
          "output_type": "execute_result",
          "data": {
            "text/plain": [
              "<ErrorbarContainer object of 3 artists>"
            ]
          },
          "metadata": {},
          "execution_count": 23
        },
        {
          "output_type": "display_data",
          "data": {
            "text/plain": [
              "<Figure size 432x288 with 1 Axes>"
            ],
            "image/png": "[encoded data removed]"
          },
          "metadata": {
            "needs_background": "light"
          }
        }
      ],
      "source": [
        "# Lav et plot med usikkerheder, så resultaterne kan sammenlignes\n",
        "mean_choice_ds1 = np.dot(values, ds1_means) / np.sum(ds1_means)\n",
        "unsertan_ds1 = uncertain(ds1_devs, ds1_means)\n",
        "mean_choice_ds2 = np.dot(values, ds2_means) / np.sum(ds2_means)\n",
        "unsertan_ds2 = uncertain(ds2_devs, ds2_means)\n",
        "mean_choice_ds3 = np.dot(values, ds3_means) / np.sum(ds3_means)\n",
        "unsertan_ds3 = uncertain(ds3_devs, ds3_means)\n",
        "mean_choice_ds4 = np.dot(values, ds4_means) / np.sum(ds4_means)\n",
        "unsertan_ds4 = uncertain(ds4_devs, ds4_means)\n",
        "\n",
        "X = [1,2,3,4]\n",
        "Y = [mean_choice_ds1[0],mean_choice_ds2[0],mean_choice_ds3[0],mean_choice_ds4[0]]\n",
        "Error = [unsertan_ds1[0],unsertan_ds2[0],unsertan_ds3[0],unsertan_ds4[0]]\n",
        "\n",
        "plt.errorbar(X,Y,Error)\n"
      ],
      "metadata": {
        "pycharm": {
          "name": "#%%\n"
        },
        "id": "9OBvWs3M2S8P",
        "colab": {
          "base_uri": "https://localhost:8080/",
          "height": 283
        },
        "outputId": "bcb38653-5687-4ca0-8062-71d5f19fe25e"
      }
    },
    {
      "cell_type": "code",
      "source": [
        "print('SPG1X =',X)\n",
        "print('SPG1Y =',Y)\n",
        "print('SPG1Error =',Error)"
      ],
      "metadata": {
        "colab": {
          "base_uri": "https://localhost:8080/"
        },
        "id": "brbXwJYNQU1x",
        "outputId": "d305514e-91b8-49c1-d1a5-35c7304d07f5"
      },
      "execution_count": null,
      "outputs": [
        {
          "output_type": "stream",
          "name": "stdout",
          "text": [
            "SPG1X = [1, 2, 3, 4]\n",
            "SPG1Y = [4.2423, 3.8658, 3.7542, 3.9429000000000003]\n",
            "SPG1Error = [0.0419484063685814, 0.06525943164369921, 0.05819190042265521, 0.05886865959751181]\n"
          ]
        }
      ]
    }
  ],
  "metadata": {
    "kernelspec": {
      "name": "python3",
      "language": "python",
      "display_name": "Python 3 (ipykernel)"
    },
    "language_info": {
      "codemirror_mode": {
        "name": "ipython",
        "version": 2
      },
      "file_extension": ".py",
      "mimetype": "text/x-python",
      "name": "python",
      "nbconvert_exporter": "python",
      "pygments_lexer": "ipython2",
      "version": "2.7.6"
    },
    "colab": {
      "name": "Aktiv dødshjælp holdning SPG 1",
      "provenance": [],
      "collapsed_sections": []
    }
  },
  "nbformat": 4,
  "nbformat_minor": 0
}